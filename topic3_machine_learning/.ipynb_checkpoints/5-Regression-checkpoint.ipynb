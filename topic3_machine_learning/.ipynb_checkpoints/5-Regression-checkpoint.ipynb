{
 "cells": [
  {
   "cell_type": "code",
   "execution_count": 3,
   "metadata": {},
   "outputs": [
    {
     "ename": "ModuleNotFoundError",
     "evalue": "No module named 'sklearn'",
     "output_type": "error",
     "traceback": [
      "\u001b[0;31m---------------------------------------------------------------------------\u001b[0m",
      "\u001b[0;31mModuleNotFoundError\u001b[0m                       Traceback (most recent call last)",
      "Cell \u001b[0;32mIn[3], line 1\u001b[0m\n\u001b[0;32m----> 1\u001b[0m \u001b[38;5;28;01mfrom\u001b[39;00m \u001b[38;5;21;01msklearn\u001b[39;00m\u001b[38;5;21;01m.\u001b[39;00m\u001b[38;5;21;01mmetrics\u001b[39;00m \u001b[38;5;28;01mimport\u001b[39;00m accuracy_score\n\u001b[1;32m      2\u001b[0m \u001b[38;5;28;01mfrom\u001b[39;00m \u001b[38;5;21;01msklearn\u001b[39;00m\u001b[38;5;21;01m.\u001b[39;00m\u001b[38;5;21;01mneighbors\u001b[39;00m \u001b[38;5;28;01mimport\u001b[39;00m KNeighborsClassifier\n\u001b[1;32m      3\u001b[0m \u001b[38;5;28;01mfrom\u001b[39;00m \u001b[38;5;21;01msklearn\u001b[39;00m\u001b[38;5;21;01m.\u001b[39;00m\u001b[38;5;21;01mtree\u001b[39;00m \u001b[38;5;28;01mimport\u001b[39;00m DecisionTreeClassifier\n",
      "\u001b[0;31mModuleNotFoundError\u001b[0m: No module named 'sklearn'"
     ]
    }
   ],
   "source": [
    "import pandas as pd\n",
    "from sklearn.metrics import accuracy_score\n",
    "from sklearn.neighbors import KNeighborsClassifier\n",
    "from sklearn.tree import DecisionTreeClassifier\n",
    "from sklearn.svm import SVC\n",
    "from sklearn.ensemble import RandomForestClassifier\n",
    "import numpy as np\n",
    "from sklearn.linear_model import LinearRegression\n",
    "from sklearn.svm import SVR\n",
    "from sklearn.model_selection import ShuffleSplit\n",
    "from sklearn.model_selection import cross_val_score\n",
    "\n",
    "from sklearn.decomposition import PCA"
   ]
  },
  {
   "cell_type": "code",
   "execution_count": 2,
   "metadata": {},
   "outputs": [
    {
     "ename": "NameError",
     "evalue": "name 'pd' is not defined",
     "output_type": "error",
     "traceback": [
      "\u001b[0;31m---------------------------------------------------------------------------\u001b[0m",
      "\u001b[0;31mNameError\u001b[0m                                 Traceback (most recent call last)",
      "Cell \u001b[0;32mIn[2], line 2\u001b[0m\n\u001b[1;32m      1\u001b[0m filepath \u001b[38;5;241m=\u001b[39m \u001b[38;5;124m\"\u001b[39m\u001b[38;5;124mdata/IT_Salary_Survey_EU_2018.csv\u001b[39m\u001b[38;5;124m\"\u001b[39m\n\u001b[0;32m----> 2\u001b[0m df \u001b[38;5;241m=\u001b[39m \u001b[43mpd\u001b[49m\u001b[38;5;241m.\u001b[39mread_csv(filepath)\n",
      "\u001b[0;31mNameError\u001b[0m: name 'pd' is not defined"
     ]
    }
   ],
   "source": [
    "filepath = \"data/IT_Salary_Survey_EU_2018.csv\"\n",
    "df = pd.read_csv(filepath)"
   ]
  },
  {
   "cell_type": "code",
   "execution_count": null,
   "metadata": {},
   "outputs": [],
   "source": [
    "# We can see all the information given with the .info()\n",
    "df.info()\n",
    "# or\n",
    "# print(df.dtypes)"
   ]
  },
  {
   "cell_type": "code",
   "execution_count": null,
   "metadata": {},
   "outputs": [],
   "source": [
    "pd.set_option('display.max_rows', 10)\n",
    "pd.set_option('display.max_columns', None)\n",
    "pd.set_option('display.width', None) \n",
    "pd.set_option('display.expand_frame_repr', False)\n",
    "df.head()\n",
    "# The data type of the Compagny size column is not correct (hard to work with).\n",
    "# The data type of the Zeitstempel column is not correct (hard to work with).\n",
    "# a last value \"0\" is useless and undefined.\n",
    "\n",
    "# many data are fulled with NaN, which mean that the Data is missing"
   ]
  },
  {
   "cell_type": "code",
   "execution_count": null,
   "metadata": {},
   "outputs": [],
   "source": [
    "df.describe() "
   ]
  },
  {
   "cell_type": "code",
   "execution_count": null,
   "metadata": {},
   "outputs": [],
   "source": [
    "df_corrected = df.select_dtypes(include=['int', 'float'])\n",
    "df_corrected = df_corrected.fillna(0)\n",
    "df_corrected['Years of experience'] = df_corrected['Years of experience'].astype(float)\n",
    "df_corrected.corr()\n",
    "\n",
    "# the highest correlation is the Yearly Bonus \n",
    "# the yearly stocks has the lowest correlation"
   ]
  },
  {
   "cell_type": "code",
   "execution_count": null,
   "metadata": {},
   "outputs": [],
   "source": [
    "def calculate_mse(X, y, model):\n",
    "    prediction = model.predict(X)\n",
    "    mse = np.round(np.mean((prediction - y) ** 2))\n",
    "\n",
    "    return mse\n",
    "\n",
    "\n",
    "def calculate_accuracy(X, y, model):\n",
    "    prediction = model.predict(X)\n",
    "    accuracy = round(100 * accuracy_score(y, prediction), 2)\n",
    "\n",
    "    return accuracy"
   ]
  },
  {
   "cell_type": "code",
   "execution_count": null,
   "metadata": {},
   "outputs": [],
   "source": [
    "models = {'KNeighborsClassifier': KNeighborsClassifier(),\n",
    "              'DecisionTreeClassifier': DecisionTreeClassifier(),\n",
    "              'SVC': SVC(),\n",
    "              'RandomForestClassifier': RandomForestClassifier()}\n",
    "\n",
    "filepath = \"data/IT_Salary_Survey_EU_2018.csv\"\n",
    "df = pd.read_csv(filepath)\n",
    "df_corrected = df.select_dtypes(include=['int', 'float'])\n",
    "df_corrected = df_corrected.fillna(0)\n",
    "df_corrected['Years of experience'] = df_corrected['Years of experience'].astype(float)\n",
    "n_folds = 5\n",
    "df_x = df_corrected.drop(df_corrected.columns[2], axis=1)\n",
    "X, y = df_x.iloc[:,:], df_corrected.iloc[:, 3]\n",
    "\n",
    "X_folds = [X.iloc[k::n_folds] for k in range(n_folds)]\n",
    "y_folds = [y.iloc[k::n_folds] for k in range(n_folds)]\n",
    "\n",
    "\n",
    "for model_name, model in models.items():\n",
    "    mean_squared_errors = []\n",
    "    for idx in range(n_folds):\n",
    "        X_test, y_test = X_folds[idx], y_folds[idx]\n",
    "        X_train = pd.concat(X_folds[:idx] + X_folds[idx+1:])\n",
    "        y_train = pd.concat(y_folds[:idx] + y_folds[idx+1:])\n",
    "\n",
    "        model.fit(X_train, y_train)\n",
    "        mse = calculate_mse(X_test, y_test, model)\n",
    "        mean_squared_errors.append(mse)\n",
    "\n",
    "        avg_mse = np.round(np.mean(mean_squared_errors))\n",
    "\n",
    "    print(f\"{model_name} - MSE (CV): {avg_mse}.\")\n"
   ]
  },
  {
   "cell_type": "code",
   "execution_count": null,
   "metadata": {},
   "outputs": [],
   "source": [
    "# reloading the data for the next exemple\n",
    "filepath = \"data/IT_Salary_Survey_EU_2018.csv\"\n",
    "df = pd.read_csv(filepath)\n",
    "df_corrected = df.select_dtypes(include=['int', 'float'])\n",
    "df_corrected = df_corrected.fillna(0)\n",
    "df_corrected['Years of experience'] = df_corrected['Years of experience'].astype(float)\n",
    "\n",
    "# we can add the data from 2019 and 2020 to train the algorithm\n",
    "csv_file = (\"data/IT_Salary_Survey_EU_2019.csv\",\"data/IT_Salary_Survey_EU_2020.csv\")\n",
    "df_training = pd.DataFrame()\n",
    "df_concat = pd.concat([pd.read_csv(f) for f in csv_file ], ignore_index=True)\n",
    "# formating the Data to fill \n",
    "df_concat = df.select_dtypes(include=['int', 'float'])\n",
    "df_concat = df_concat.fillna(0)\n",
    "df_concat['Years of experience'] = df_corrected['Years of experience'].astype(float)\n",
    "# getting X and y for the training\n",
    "X_train = df_concat.drop(df_concat.columns[2], axis=1)\n",
    "y_train =  df_concat.iloc[:, 3]\n",
    "# getting x and y for the test\n",
    "X_test = df_corrected.drop(df_corrected.columns[2], axis=1)\n",
    "y_test = df_corrected.iloc[:, 3]\n",
    "\n",
    "models = {'KNeighborsClassifier': KNeighborsClassifier(),\n",
    "              'DecisionTreeClassifier': DecisionTreeClassifier(),\n",
    "              'SVC': SVC(),\n",
    "              'RandomForestClassifier': RandomForestClassifier()}\n",
    "for model_name, model in models.items():\n",
    "    model.fit(X_train, y_train)\n",
    "    mean_squared_errors = - cross_val_score(\n",
    "        model, X, y, cv=5, scoring='neg_mean_squared_error')\n",
    "    avg_mse = np.round(np.mean(mean_squared_errors), 2)\n",
    "    acc_train = calculate_accuracy(X_train, y_train, model)\n",
    "    acc_test = calculate_accuracy(X_test, y_test, model)\n",
    "    mse = calculate_mse(X_test, y_test, model)\n",
    "    print(f\"The in-sample accuracy of {model_name} is {acc_train} \"\n",
    "        f\"and its estimated out-of-sample accuracy {acc_test}\")\n",
    "    print(f\"{model_name} - MSE (CV): {avg_mse}.\")\n"
   ]
  },
  {
   "cell_type": "code",
   "execution_count": null,
   "metadata": {},
   "outputs": [],
   "source": [
    "models = {'KNeighborsClassifier': KNeighborsClassifier(),\n",
    "              'DecisionTreeClassifier': DecisionTreeClassifier(),\n",
    "              'SVC': SVC(),\n",
    "              'RandomForestClassifier': RandomForestClassifier()}\n",
    "\n",
    "filepath = \"data/IT_Salary_Survey_EU_2018.csv\"\n",
    "df = pd.read_csv(filepath)\n",
    "df_corrected = df.select_dtypes(include=['int', 'float'])\n",
    "df_corrected = df_corrected.fillna(0)\n",
    "df_corrected['Years of experience'] = df_corrected['Years of experience'].astype(float)\n",
    "n_folds = 5\n",
    "df_x = df_corrected.drop(df_corrected.columns[2], axis=1)\n",
    "X, y = df_x.iloc[:,:], df_corrected.iloc[:, 3]\n",
    "\n",
    "X = X.to_numpy()\n",
    "mean = np.mean(X, axis=0, keepdims=True)\n",
    "X_centered = X - mean\n",
    "pca = PCA(n_components=2)\n",
    "pca.fit(X_centered)\n",
    "X_projected = pca.transform(X_centered)\n",
    "\n",
    "\n",
    "for model_name, model in models.items():\n",
    "    mean_squared_errors = - cross_val_score(\n",
    "        model, X_projected, y, cv=5, scoring='neg_mean_squared_error')\n",
    "    avg_mse = np.round(np.mean(mean_squared_errors), 2)\n",
    "\n",
    "\n",
    "    print(f\"{model_name} - MSE (CV): {avg_mse}.\")\n"
   ]
  }
 ],
 "metadata": {
  "kernelspec": {
   "display_name": "Python 3 (ipykernel)",
   "language": "python",
   "name": "python3"
  },
  "language_info": {
   "codemirror_mode": {
    "name": "ipython",
    "version": 3
   },
   "file_extension": ".py",
   "mimetype": "text/x-python",
   "name": "python",
   "nbconvert_exporter": "python",
   "pygments_lexer": "ipython3",
   "version": "3.12.3"
  }
 },
 "nbformat": 4,
 "nbformat_minor": 4
}
