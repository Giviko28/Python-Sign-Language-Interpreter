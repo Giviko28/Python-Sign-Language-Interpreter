{
 "cells": [
  {
   "cell_type": "code",
   "execution_count": 52,
   "metadata": {},
   "outputs": [],
   "source": [
    "import pandas as pd\n",
    "from sklearn.metrics import accuracy_score\n",
    "from sklearn.neighbors import KNeighborsClassifier\n",
    "from sklearn.tree import DecisionTreeClassifier\n",
    "from sklearn.svm import SVC\n",
    "from sklearn.ensemble import RandomForestClassifier\n",
    "import numpy as np\n",
    "from sklearn.linear_model import LinearRegression\n",
    "from sklearn.svm import SVR\n",
    "from sklearn.model_selection import ShuffleSplit\n",
    "from sklearn.model_selection import cross_val_score\n",
    "\n",
    "from sklearn.decomposition import PCA"
   ]
  },
  {
   "cell_type": "code",
   "execution_count": 5,
   "metadata": {},
   "outputs": [],
   "source": [
    "filepath = \"data/IT_Salary_Survey_EU_2018.csv\"\n",
    "df = pd.read_csv(filepath)"
   ]
  },
  {
   "cell_type": "code",
   "execution_count": null,
   "metadata": {},
   "outputs": [],
   "source": [
    "# We can see all the information given with the .info()\n",
    "df.info()\n",
    "# or\n",
    "# print(df.dtypes)"
   ]
  },
  {
   "cell_type": "code",
   "execution_count": null,
   "metadata": {},
   "outputs": [],
   "source": [
    "pd.set_option('display.max_rows', 10)\n",
    "pd.set_option('display.max_columns', None)\n",
    "pd.set_option('display.width', None) \n",
    "pd.set_option('display.expand_frame_repr', False)\n",
    "df.head()\n",
    "# The data type of the Compagny size column is not correct (hard to work with).\n",
    "# The data type of the Zeitstempel column is not correct (hard to work with).\n",
    "# a last value \"0\" is useless and undefined.\n",
    "\n",
    "# many data are fulled with NaN, which mean that the Data is missing"
   ]
  },
  {
   "cell_type": "code",
   "execution_count": null,
   "metadata": {},
   "outputs": [],
   "source": [
    "df.describe() "
   ]
  },
  {
   "cell_type": "code",
   "execution_count": null,
   "metadata": {},
   "outputs": [],
   "source": [
    "df_corrected = df.select_dtypes(include=['int', 'float'])\n",
    "df_corrected = df_corrected.fillna(0)\n",
    "df_corrected['Years of experience'] = df_corrected['Years of experience'].astype(float)\n",
    "df_corrected.corr()\n",
    "\n",
    "# the highest correlation is the Yearly Bonus \n",
    "# the yearly stocks has the lowest correlation"
   ]
  },
  {
   "cell_type": "code",
   "execution_count": 58,
   "metadata": {},
   "outputs": [],
   "source": [
    "def calculate_mse(X, y, model):\n",
    "    prediction = model.predict(X)\n",
    "    mse = np.round(np.mean((prediction - y) ** 2))\n",
    "\n",
    "    return mse\n",
    "\n",
    "\n",
    "def calculate_accuracy(X, y, model):\n",
    "    prediction = model.predict(X)\n",
    "    accuracy = round(100 * accuracy_score(y, prediction), 2)\n",
    "\n",
    "    return accuracy"
   ]
  },
  {
   "cell_type": "code",
   "execution_count": null,
   "metadata": {},
   "outputs": [],
   "source": [
    "models = {'KNeighborsClassifier': KNeighborsClassifier(),\n",
    "              'DecisionTreeClassifier': DecisionTreeClassifier(),\n",
    "              'SVC': SVC(),\n",
    "              'RandomForestClassifier': RandomForestClassifier()}\n",
    "\n",
    "filepath = \"data/IT_Salary_Survey_EU_2018.csv\"\n",
    "df = pd.read_csv(filepath)\n",
    "df_corrected = df.select_dtypes(include=['int', 'float'])\n",
    "df_corrected = df_corrected.fillna(0)\n",
    "df_corrected['Years of experience'] = df_corrected['Years of experience'].astype(float)\n",
    "n_folds = 5\n",
    "df_x = df_corrected.drop(df_corrected.columns[2], axis=1)\n",
    "X, y = df_x.iloc[:,:], df_corrected.iloc[:, 3]\n",
    "\n",
    "X_folds = [X.iloc[k::n_folds] for k in range(n_folds)]\n",
    "y_folds = [y.iloc[k::n_folds] for k in range(n_folds)]\n",
    "\n",
    "\n",
    "for model_name, model in models.items():\n",
    "    mean_squared_errors = []\n",
    "    for idx in range(n_folds):\n",
    "        X_test, y_test = X_folds[idx], y_folds[idx]\n",
    "        X_train = pd.concat(X_folds[:idx] + X_folds[idx+1:])\n",
    "        y_train = pd.concat(y_folds[:idx] + y_folds[idx+1:])\n",
    "\n",
    "        model.fit(X_train, y_train)\n",
    "        mse = calculate_mse(X_test, y_test, model)\n",
    "        mean_squared_errors.append(mse)\n",
    "\n",
    "        avg_mse = np.round(np.mean(mean_squared_errors))\n",
    "\n",
    "    print(f\"{model_name} - MSE (CV): {avg_mse}.\")\n"
   ]
  },
  {
   "cell_type": "code",
   "execution_count": 60,
   "metadata": {},
   "outputs": [
    {
     "name": "stderr",
     "output_type": "stream",
     "text": [
      "c:\\Users\\tmauc\\AppData\\Local\\Programs\\Python\\Python312\\Lib\\site-packages\\sklearn\\model_selection\\_split.py:776: UserWarning: The least populated class in y has only 1 members, which is less than n_splits=5.\n",
      "  warnings.warn(\n"
     ]
    },
    {
     "name": "stdout",
     "output_type": "stream",
     "text": [
      "The in-sample accuracy of KNeighborsClassifier is 75.69 and its estimated out-of-sample accuracy 75.69\n",
      "KNeighborsClassifier - MSE (CV): 13742849.85.\n",
      "The in-sample accuracy of DecisionTreeClassifier is 100.0 and its estimated out-of-sample accuracy 100.0\n",
      "DecisionTreeClassifier - MSE (CV): 7221278.45.\n"
     ]
    },
    {
     "name": "stderr",
     "output_type": "stream",
     "text": [
      "c:\\Users\\tmauc\\AppData\\Local\\Programs\\Python\\Python312\\Lib\\site-packages\\sklearn\\model_selection\\_split.py:776: UserWarning: The least populated class in y has only 1 members, which is less than n_splits=5.\n",
      "  warnings.warn(\n",
      "c:\\Users\\tmauc\\AppData\\Local\\Programs\\Python\\Python312\\Lib\\site-packages\\sklearn\\model_selection\\_split.py:776: UserWarning: The least populated class in y has only 1 members, which is less than n_splits=5.\n",
      "  warnings.warn(\n"
     ]
    },
    {
     "name": "stdout",
     "output_type": "stream",
     "text": [
      "The in-sample accuracy of SVC is 36.99 and its estimated out-of-sample accuracy 36.99\n",
      "SVC - MSE (CV): 75957571.33.\n"
     ]
    },
    {
     "name": "stderr",
     "output_type": "stream",
     "text": [
      "c:\\Users\\tmauc\\AppData\\Local\\Programs\\Python\\Python312\\Lib\\site-packages\\sklearn\\model_selection\\_split.py:776: UserWarning: The least populated class in y has only 1 members, which is less than n_splits=5.\n",
      "  warnings.warn(\n"
     ]
    },
    {
     "name": "stdout",
     "output_type": "stream",
     "text": [
      "The in-sample accuracy of RandomForestClassifier is 100.0 and its estimated out-of-sample accuracy 100.0\n",
      "RandomForestClassifier - MSE (CV): 11328468.2.\n"
     ]
    }
   ],
   "source": [
    "# reloading the data for the next exemple\n",
    "filepath = \"data/IT_Salary_Survey_EU_2018.csv\"\n",
    "df = pd.read_csv(filepath)\n",
    "df_corrected = df.select_dtypes(include=['int', 'float'])\n",
    "df_corrected = df_corrected.fillna(0)\n",
    "df_corrected['Years of experience'] = df_corrected['Years of experience'].astype(float)\n",
    "\n",
    "# we can add the data from 2019 and 2020 to train the algorithm\n",
    "csv_file = (\"data/IT_Salary_Survey_EU_2019.csv\",\"data/IT_Salary_Survey_EU_2020.csv\")\n",
    "df_training = pd.DataFrame()\n",
    "df_concat = pd.concat([pd.read_csv(f) for f in csv_file ], ignore_index=True)\n",
    "# formating the Data to fill \n",
    "df_concat = df.select_dtypes(include=['int', 'float'])\n",
    "df_concat = df_concat.fillna(0)\n",
    "df_concat['Years of experience'] = df_corrected['Years of experience'].astype(float)\n",
    "# getting X and y for the training\n",
    "X_train = df_concat.drop(df_concat.columns[2], axis=1)\n",
    "y_train =  df_concat.iloc[:, 3]\n",
    "# getting x and y for the test\n",
    "X_test = df_corrected.drop(df_corrected.columns[2], axis=1)\n",
    "y_test = df_corrected.iloc[:, 3]\n",
    "\n",
    "models = {'KNeighborsClassifier': KNeighborsClassifier(),\n",
    "              'DecisionTreeClassifier': DecisionTreeClassifier(),\n",
    "              'SVC': SVC(),\n",
    "              'RandomForestClassifier': RandomForestClassifier()}\n",
    "for model_name, model in models.items():\n",
    "    model.fit(X_train, y_train)\n",
    "    mean_squared_errors = - cross_val_score(\n",
    "        model, X, y, cv=5, scoring='neg_mean_squared_error')\n",
    "    avg_mse = np.round(np.mean(mean_squared_errors), 2)\n",
    "    acc_train = calculate_accuracy(X_train, y_train, model)\n",
    "    acc_test = calculate_accuracy(X_test, y_test, model)\n",
    "    mse = calculate_mse(X_test, y_test, model)\n",
    "    print(f\"The in-sample accuracy of {model_name} is {acc_train} \"\n",
    "        f\"and its estimated out-of-sample accuracy {acc_test}\")\n",
    "    print(f\"{model_name} - MSE (CV): {avg_mse}.\")\n"
   ]
  },
  {
   "cell_type": "code",
   "execution_count": 55,
   "metadata": {},
   "outputs": [
    {
     "name": "stderr",
     "output_type": "stream",
     "text": [
      "c:\\Users\\tmauc\\AppData\\Local\\Programs\\Python\\Python312\\Lib\\site-packages\\sklearn\\model_selection\\_split.py:776: UserWarning: The least populated class in y has only 1 members, which is less than n_splits=5.\n",
      "  warnings.warn(\n",
      "c:\\Users\\tmauc\\AppData\\Local\\Programs\\Python\\Python312\\Lib\\site-packages\\sklearn\\model_selection\\_split.py:776: UserWarning: The least populated class in y has only 1 members, which is less than n_splits=5.\n",
      "  warnings.warn(\n",
      "c:\\Users\\tmauc\\AppData\\Local\\Programs\\Python\\Python312\\Lib\\site-packages\\sklearn\\model_selection\\_split.py:776: UserWarning: The least populated class in y has only 1 members, which is less than n_splits=5.\n",
      "  warnings.warn(\n"
     ]
    },
    {
     "name": "stdout",
     "output_type": "stream",
     "text": [
      "KNeighborsClassifier - MSE (CV): 13743751.81.\n",
      "DecisionTreeClassifier - MSE (CV): 15009552.1.\n",
      "SVC - MSE (CV): 59609793.56.\n"
     ]
    },
    {
     "name": "stderr",
     "output_type": "stream",
     "text": [
      "c:\\Users\\tmauc\\AppData\\Local\\Programs\\Python\\Python312\\Lib\\site-packages\\sklearn\\model_selection\\_split.py:776: UserWarning: The least populated class in y has only 1 members, which is less than n_splits=5.\n",
      "  warnings.warn(\n"
     ]
    },
    {
     "name": "stdout",
     "output_type": "stream",
     "text": [
      "RandomForestClassifier - MSE (CV): 21110774.32.\n"
     ]
    }
   ],
   "source": [
    "models = {'KNeighborsClassifier': KNeighborsClassifier(),\n",
    "              'DecisionTreeClassifier': DecisionTreeClassifier(),\n",
    "              'SVC': SVC(),\n",
    "              'RandomForestClassifier': RandomForestClassifier()}\n",
    "\n",
    "filepath = \"data/IT_Salary_Survey_EU_2018.csv\"\n",
    "df = pd.read_csv(filepath)\n",
    "df_corrected = df.select_dtypes(include=['int', 'float'])\n",
    "df_corrected = df_corrected.fillna(0)\n",
    "df_corrected['Years of experience'] = df_corrected['Years of experience'].astype(float)\n",
    "n_folds = 5\n",
    "df_x = df_corrected.drop(df_corrected.columns[2], axis=1)\n",
    "X, y = df_x.iloc[:,:], df_corrected.iloc[:, 3]\n",
    "\n",
    "X = X.to_numpy()\n",
    "mean = np.mean(X, axis=0, keepdims=True)\n",
    "X_centered = X - mean\n",
    "pca = PCA(n_components=2)\n",
    "pca.fit(X_centered)\n",
    "X_projected = pca.transform(X_centered)\n",
    "\n",
    "\n",
    "for model_name, model in models.items():\n",
    "    mean_squared_errors = - cross_val_score(\n",
    "        model, X_projected, y, cv=5, scoring='neg_mean_squared_error')\n",
    "    avg_mse = np.round(np.mean(mean_squared_errors), 2)\n",
    "\n",
    "\n",
    "    print(f\"{model_name} - MSE (CV): {avg_mse}.\")\n"
   ]
  }
 ],
 "metadata": {
  "kernelspec": {
   "display_name": "Python 3",
   "language": "python",
   "name": "python3"
  },
  "language_info": {
   "codemirror_mode": {
    "name": "ipython",
    "version": 3
   },
   "file_extension": ".py",
   "mimetype": "text/x-python",
   "name": "python",
   "nbconvert_exporter": "python",
   "pygments_lexer": "ipython3",
   "version": "3.12.3"
  }
 },
 "nbformat": 4,
 "nbformat_minor": 2
}
